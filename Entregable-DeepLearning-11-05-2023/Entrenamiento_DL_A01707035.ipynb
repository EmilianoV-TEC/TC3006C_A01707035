{
 "cells": [
  {
   "cell_type": "markdown",
   "metadata": {},
   "source": [
    "# Momento de Retroalimentación: Módulo 2 Implementación de un modelo de deep learning. (Portafolio Implementación)\n",
    "## Entrenamiento\n",
    "\n",
    "### Emiliano V - A01707035"
   ]
  },
  {
   "cell_type": "code",
   "execution_count": 15,
   "metadata": {},
   "outputs": [
    {
     "name": "stdout",
     "output_type": "stream",
     "text": [
      "Found 7624 images belonging to 53 classes.\n",
      "Found 265 images belonging to 53 classes.\n"
     ]
    }
   ],
   "source": [
    "import tensorflow as tf\n",
    "import numpy as np\n",
    "import matplotlib.pyplot as plt\n",
    "import seaborn as sns\n",
    "import pandas as pd\n",
    "import os\n",
    "\n",
    "from tensorflow.keras.preprocessing.image import ImageDataGenerator\n",
    "from tensorflow.keras.models import Sequential\n",
    "from tensorflow.keras.layers import Dense, GlobalAveragePooling2D\n",
    "from tensorflow.keras.applications import MobileNetV3Small\n",
    "from tensorflow.keras.callbacks import ModelCheckpoint\n",
    "\n",
    "\n",
    "path = \"./card_data/\"\n",
    "\n",
    "train_dir = os.path.join(path,'train')\n",
    "validation_dir = os.path.join(path, 'valid')\n",
    "test_dir = os.path.join(path, 'test')\n",
    "\n",
    "train_datagen = ImageDataGenerator(1./255)\n",
    "\n",
    "val_datagen = ImageDataGenerator(1./255)\n",
    "\n",
    "\n",
    "train_generator = train_datagen.flow_from_directory(\n",
    "\t\t\t\t\t\t\ttrain_dir,\n",
    "\t\t\t\t\t\t\ttarget_size = (224, 224),\n",
    "\t\t\t\t\t\t\tbatch_size = 20,\n",
    "\t\t\t\t\t\t\tclass_mode ='categorical')\n",
    "\n",
    "\n",
    "val_generator = val_datagen.flow_from_directory(\n",
    "\t\t\t\t\t\t\tvalidation_dir,\n",
    "\t\t\t\t\t\t\ttarget_size = (224, 224),\n",
    "\t\t\t\t\t\t\tbatch_size = 20,\n",
    "\t\t\t\t\t\t\tclass_mode = 'categorical')\n"
   ]
  },
  {
   "cell_type": "code",
   "execution_count": 16,
   "metadata": {},
   "outputs": [],
   "source": [
    "def get_model():\n",
    "\n",
    "  conv_base = MobileNetV3Small(weights = 'imagenet',\n",
    "\t\t\t\t\t\t\t\tinclude_top = False,\n",
    "\t\t\t\t\t\t\t\tinput_shape = (224, 224, 3))\n",
    "\n",
    "  # La siguiente linea permite definir si el modelo base se reentrena\n",
    "  #conv_base.trainable = False\n",
    "\n",
    "  model = Sequential([\n",
    "    conv_base,\n",
    "    GlobalAveragePooling2D(),\n",
    "    Dense(units = 128, activation = 'relu'),\n",
    "    Dense(units = 64, activation = 'relu'),\n",
    "    Dense(units = 53, activation = 'softmax')\n",
    "    ])\n",
    "\n",
    "  model.compile(optimizer = 'adam',\n",
    "                  loss = 'categorical_crossentropy',\n",
    "                  metrics = ['accuracy'])\n",
    "    \n",
    "  return model"
   ]
  },
  {
   "cell_type": "code",
   "execution_count": 17,
   "metadata": {},
   "outputs": [],
   "source": [
    "checkpoint_path = \"./checkpoints/checkpoints\"\n",
    "\n",
    "checkpoint = ModelCheckpoint(filepath = checkpoint_path,\n",
    "                                  save_weights_only = True,\n",
    "                                  save_freq = \"epoch\",\n",
    "                                  monitor = \"val_accuracy\",\n",
    "                                  save_best_only = True,\n",
    "                                  verbose = 1)"
   ]
  },
  {
   "cell_type": "code",
   "execution_count": 18,
   "metadata": {},
   "outputs": [
    {
     "name": "stdout",
     "output_type": "stream",
     "text": [
      "Model: \"sequential_2\"\n",
      "_________________________________________________________________\n",
      " Layer (type)                Output Shape              Param #   \n",
      "=================================================================\n",
      " MobilenetV3small (Function  (None, 7, 7, 576)         939120    \n",
      " al)                                                             \n",
      "                                                                 \n",
      " global_average_pooling2d_2  (None, 576)               0         \n",
      "  (GlobalAveragePooling2D)                                       \n",
      "                                                                 \n",
      " dense_4 (Dense)             (None, 128)               73856     \n",
      "                                                                 \n",
      " dense_5 (Dense)             (None, 64)                8256      \n",
      "                                                                 \n",
      " dense_6 (Dense)             (None, 53)                3445      \n",
      "                                                                 \n",
      "=================================================================\n",
      "Total params: 1024677 (3.91 MB)\n",
      "Trainable params: 1012565 (3.86 MB)\n",
      "Non-trainable params: 12112 (47.31 KB)\n",
      "_________________________________________________________________\n"
     ]
    }
   ],
   "source": [
    "model = get_model()\n",
    "model.summary()"
   ]
  },
  {
   "cell_type": "code",
   "execution_count": 19,
   "metadata": {},
   "outputs": [
    {
     "name": "stdout",
     "output_type": "stream",
     "text": [
      "Epoch 1/15\n"
     ]
    },
    {
     "name": "stderr",
     "output_type": "stream",
     "text": [
      "c:\\Users\\emili\\AppData\\Local\\Programs\\Python\\Python311\\Lib\\site-packages\\keras\\src\\preprocessing\\image.py:1862: UserWarning: This ImageDataGenerator specifies `featurewise_center`, but it hasn't been fit on any training data. Fit it first by calling `.fit(numpy_data)`.\n",
      "  warnings.warn(\n"
     ]
    },
    {
     "name": "stdout",
     "output_type": "stream",
     "text": [
      "200/200 [==============================] - ETA: 0s - loss: 2.8552 - accuracy: 0.2150\n",
      "Epoch 1: val_accuracy improved from -inf to 0.18491, saving model to ./checkpoints\\checkpoints\n",
      "200/200 [==============================] - 202s 899ms/step - loss: 2.8552 - accuracy: 0.2150 - val_loss: 3.9406 - val_accuracy: 0.1849\n",
      "Epoch 2/15\n",
      "200/200 [==============================] - ETA: 0s - loss: 1.4151 - accuracy: 0.5863\n",
      "Epoch 2: val_accuracy improved from 0.18491 to 0.27547, saving model to ./checkpoints\\checkpoints\n",
      "200/200 [==============================] - 175s 876ms/step - loss: 1.4151 - accuracy: 0.5863 - val_loss: 6.8384 - val_accuracy: 0.2755\n",
      "Epoch 3/15\n",
      "200/200 [==============================] - ETA: 0s - loss: 0.9473 - accuracy: 0.7200\n",
      "Epoch 3: val_accuracy improved from 0.27547 to 0.31321, saving model to ./checkpoints\\checkpoints\n",
      "200/200 [==============================] - 169s 843ms/step - loss: 0.9473 - accuracy: 0.7200 - val_loss: 8.1571 - val_accuracy: 0.3132\n",
      "Epoch 4/15\n",
      "200/200 [==============================] - ETA: 0s - loss: 0.7237 - accuracy: 0.7862\n",
      "Epoch 4: val_accuracy improved from 0.31321 to 0.56226, saving model to ./checkpoints\\checkpoints\n",
      "200/200 [==============================] - 176s 880ms/step - loss: 0.7237 - accuracy: 0.7862 - val_loss: 3.2752 - val_accuracy: 0.5623\n",
      "Epoch 5/15\n",
      "200/200 [==============================] - ETA: 0s - loss: 0.5878 - accuracy: 0.8225\n",
      "Epoch 5: val_accuracy did not improve from 0.56226\n",
      "200/200 [==============================] - 179s 896ms/step - loss: 0.5878 - accuracy: 0.8225 - val_loss: 3.5277 - val_accuracy: 0.4528\n",
      "Epoch 6/15\n",
      "200/200 [==============================] - ETA: 0s - loss: 0.4499 - accuracy: 0.8655\n",
      "Epoch 6: val_accuracy improved from 0.56226 to 0.60755, saving model to ./checkpoints\\checkpoints\n",
      "200/200 [==============================] - 180s 901ms/step - loss: 0.4499 - accuracy: 0.8655 - val_loss: 2.6196 - val_accuracy: 0.6075\n",
      "Epoch 7/15\n",
      "200/200 [==============================] - ETA: 0s - loss: 0.4355 - accuracy: 0.8723\n",
      "Epoch 7: val_accuracy improved from 0.60755 to 0.64151, saving model to ./checkpoints\\checkpoints\n",
      "200/200 [==============================] - 180s 902ms/step - loss: 0.4355 - accuracy: 0.8723 - val_loss: 1.9092 - val_accuracy: 0.6415\n",
      "Epoch 8/15\n",
      "200/200 [==============================] - ETA: 0s - loss: 0.3668 - accuracy: 0.8930\n",
      "Epoch 8: val_accuracy improved from 0.64151 to 0.78491, saving model to ./checkpoints\\checkpoints\n",
      "200/200 [==============================] - 183s 915ms/step - loss: 0.3668 - accuracy: 0.8930 - val_loss: 0.9835 - val_accuracy: 0.7849\n",
      "Epoch 9/15\n",
      "200/200 [==============================] - ETA: 0s - loss: 0.3046 - accuracy: 0.9028\n",
      "Epoch 9: val_accuracy improved from 0.78491 to 0.78868, saving model to ./checkpoints\\checkpoints\n",
      "200/200 [==============================] - 168s 840ms/step - loss: 0.3046 - accuracy: 0.9028 - val_loss: 1.1233 - val_accuracy: 0.7887\n",
      "Epoch 10/15\n",
      "200/200 [==============================] - ETA: 0s - loss: 0.3301 - accuracy: 0.9003\n",
      "Epoch 10: val_accuracy improved from 0.78868 to 0.85660, saving model to ./checkpoints\\checkpoints\n",
      "200/200 [==============================] - 168s 838ms/step - loss: 0.3301 - accuracy: 0.9003 - val_loss: 0.6302 - val_accuracy: 0.8566\n",
      "Epoch 11/15\n",
      "200/200 [==============================] - ETA: 0s - loss: 0.2554 - accuracy: 0.9204\n",
      "Epoch 11: val_accuracy did not improve from 0.85660\n",
      "200/200 [==============================] - 169s 845ms/step - loss: 0.2554 - accuracy: 0.9204 - val_loss: 1.1472 - val_accuracy: 0.7660\n",
      "Epoch 12/15\n",
      "200/200 [==============================] - ETA: 0s - loss: 0.2191 - accuracy: 0.9333\n",
      "Epoch 12: val_accuracy did not improve from 0.85660\n",
      "200/200 [==============================] - 171s 857ms/step - loss: 0.2191 - accuracy: 0.9333 - val_loss: 0.9909 - val_accuracy: 0.8415\n",
      "Epoch 13/15\n",
      "200/200 [==============================] - ETA: 0s - loss: 0.2267 - accuracy: 0.9300\n",
      "Epoch 13: val_accuracy improved from 0.85660 to 0.89057, saving model to ./checkpoints\\checkpoints\n",
      "200/200 [==============================] - 173s 863ms/step - loss: 0.2267 - accuracy: 0.9300 - val_loss: 0.3502 - val_accuracy: 0.8906\n",
      "Epoch 14/15\n",
      "200/200 [==============================] - ETA: 0s - loss: 0.1918 - accuracy: 0.9405\n",
      "Epoch 14: val_accuracy improved from 0.89057 to 0.92453, saving model to ./checkpoints\\checkpoints\n",
      "200/200 [==============================] - 172s 858ms/step - loss: 0.1918 - accuracy: 0.9405 - val_loss: 0.3194 - val_accuracy: 0.9245\n",
      "Epoch 15/15\n",
      "200/200 [==============================] - ETA: 0s - loss: 0.1938 - accuracy: 0.9415\n",
      "Epoch 15: val_accuracy did not improve from 0.92453\n",
      "200/200 [==============================] - 179s 892ms/step - loss: 0.1938 - accuracy: 0.9415 - val_loss: 0.4143 - val_accuracy: 0.8906\n"
     ]
    }
   ],
   "source": [
    "history = model.fit(train_generator, epochs = 15, validation_data = val_generator, steps_per_epoch = 200, callbacks = [checkpoint])"
   ]
  },
  {
   "cell_type": "code",
   "execution_count": 20,
   "metadata": {},
   "outputs": [
    {
     "name": "stderr",
     "output_type": "stream",
     "text": [
      "c:\\Users\\emili\\AppData\\Local\\Programs\\Python\\Python311\\Lib\\site-packages\\keras\\src\\engine\\training.py:3079: UserWarning: You are saving your model as an HDF5 file via `model.save()`. This file format is considered legacy. We recommend using instead the native Keras format, e.g. `model.save('my_model.keras')`.\n",
      "  saving_api.save_model(\n"
     ]
    }
   ],
   "source": [
    "model.save('models/MobileNetV3_card_classifier.h5') # Guardamos el modelo"
   ]
  },
  {
   "cell_type": "code",
   "execution_count": 21,
   "metadata": {},
   "outputs": [
    {
     "data": {
      "text/plain": [
       "<AxesSubplot: >"
      ]
     },
     "execution_count": 21,
     "metadata": {},
     "output_type": "execute_result"
    },
    {
     "data": {
      "image/png": "[encoded data removed]",
      "text/plain": [
       "<Figure size 640x480 with 1 Axes>"
      ]
     },
     "metadata": {},
     "output_type": "display_data"
    }
   ],
   "source": [
    "history_df = pd.DataFrame(history.history)\n",
    "\n",
    "plt.ylim(0, 1.0)\n",
    "sns.lineplot(data = history_df[['accuracy', 'val_accuracy']])"
   ]
  }
 ],
 "metadata": {
  "kernelspec": {
   "display_name": "Python 3",
   "language": "python",
   "name": "python3"
  },
  "language_info": {
   "codemirror_mode": {
    "name": "ipython",
    "version": 3
   },
   "file_extension": ".py",
   "mimetype": "text/x-python",
   "name": "python",
   "nbconvert_exporter": "python",
   "pygments_lexer": "ipython3",
   "version": "3.11.4"
  },
  "orig_nbformat": 4
 },
 "nbformat": 4,
 "nbformat_minor": 2
}
